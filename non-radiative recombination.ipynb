{
 "cells": [
  {
   "cell_type": "markdown",
   "metadata": {},
   "source": [
    "$$\\frac{dn_{br}}{dt}=-\\int_{0}^{+\\infty}R(z)N_{R}N_{cg}V_{pl}(z)z^{1/2}f_{n}(z)dz  \\tag{1}$$\n",
    "\n",
    "$$\\frac{dn_{dr}}{dt}=-\\int_{0}^{+\\infty}R(z)N_{R}N_{cg}[1-V_{pl}(z)]z^{1/2}f_{n}(z)dz  \\tag{2}$$\n",
    "\n",
    "So the relative amount (w.r.t to br+dr) of bright electrons that are trapped by nonradiative centers is\n",
    "\n",
    "$$br_{relative}=\\frac{\\int_{0}^{+\\infty}R(z)V_{pl}(z)z^{1/2}f_{n}(z)dz}{\\int_{0}^{+\\infty}R(z)V_{pl}(z)z^{1/2}f_{n}(z)dz\\ +\\ \\int_{0}^{+\\infty}R(z)[1-V_{pl}(z)]z^{1/2}f_{n}(z)dz} \\tag{3}$$\n",
    "\n",
    "$R(z)$ has two different expressions now: $$R(z)=R_{0}exp(\\frac{z}{\\delta E\\div(k_{B}T)}) \\tag{4}$$ or \n",
    "$$R(Z)=\\left\\{\n",
    "\\begin{aligned}\n",
    "R_{0}\\qquad   when\\ E\\ \\ge\\ \\delta E \\\\\n",
    "R_{0}exp[-\\left(1-\\frac{z}{\\delta E\\div(k_{B}T)}\\right)^{3/2}] \\qquad when\\ E\\ \\lt \\ \\delta E \\\\\n",
    "\\end{aligned}\n",
    "\\right.$$\n",
    "\n",
    "\n",
    "Now calculate $br_{relative}$ using the two expressions of $R(z)$\n"
   ]
  },
  {
   "cell_type": "code",
   "execution_count": 16,
   "metadata": {},
   "outputs": [
    {
     "name": "stdout",
     "output_type": "stream",
     "text": [
      "0.868478298997652\n",
      "0.795032183866947\n"
     ]
    }
   ],
   "source": [
    "#calculate relative amonut to test the expression of R, T=300k, kbT=25.85meV\n",
    "from scipy import integrate\n",
    "from math import exp\n",
    "import numpy as np\n",
    "def total_1(x):\n",
    "    return x**0.5*exp(-0.483*x)\n",
    "def br_1(x):\n",
    "    return exp(-0.483*x)*x**(0.5)*(1-0.12405*x**(-3))\n",
    "be_1 = integrate.quad(br_1,0.49873,np.inf)[0]\n",
    "total_1 = integrate.quad(total_1,0,np.inf)[0]\n",
    "print(be_1/total_1)\n",
    "\n",
    "def total_2(x):\n",
    "    if x >= 1.934:\n",
    "        return x**0.5*exp(-x)\n",
    "    else:\n",
    "        return exp(-(1-x*0.517)**1.5)*x**0.5*exp(-x)\n",
    "def br_2(x):\n",
    "    if x >= 1.934:\n",
    "        return x**0.5*exp(-x)*(1-0.12405*x**(-3))\n",
    "    else:\n",
    "        return exp(-(1-x*0.517)**1.5)*x**0.5*exp(-x)*(1-0.12405*x**(-3))\n",
    "be_2 = integrate.quad(br_2,0.49873,np.inf)[0]\n",
    "total_2 = integrate.quad(total_2,0,np.inf)[0]\n",
    "print(be_2/total_2)"
   ]
  },
  {
   "cell_type": "code",
   "execution_count": 15,
   "metadata": {},
   "outputs": [
    {
     "name": "stdout",
     "output_type": "stream",
     "text": [
      "0.43441757876700265\n",
      "0.4376547243166696\n"
     ]
    }
   ],
   "source": [
    "#calculate relative amonut to test the expression of R, T=120k, kbT=10.34meV\n",
    "def total_1(x):\n",
    "    return x**0.5*exp(-0.7932*x)\n",
    "def br_1(x):\n",
    "    return exp(-0.7932*x)*x**(0.5)*(1-1.93834*x**(-3))\n",
    "be_1 = integrate.quad(br_1,1.24684,np.inf)[0]\n",
    "total_1 = integrate.quad(total_1,0,np.inf)[0]\n",
    "print(be_1/total_1)\n",
    "\n",
    "def total_2(x):\n",
    "    if x >= 4.8356:\n",
    "        return x**0.5*exp(-x)\n",
    "    else:\n",
    "        return exp(-(1-x/4.8356)**1.5)*x**0.5*exp(-x)\n",
    "def br_2(x):\n",
    "    if x >= 4.8356:\n",
    "        return x**0.5*exp(-x)*(1-1.93834*x**(-3))\n",
    "    else:\n",
    "        return exp(-(1-x/4.8356)**1.5)*x**0.5*exp(-x)*(1-1.93834*x**(-3))\n",
    "be_2 = integrate.quad(br_2,1.24684,np.inf)[0]\n",
    "total_2 = integrate.quad(total_2,0,np.inf)[0]\n",
    "print(be_2/total_2)"
   ]
  },
  {
   "cell_type": "code",
   "execution_count": null,
   "metadata": {},
   "outputs": [],
   "source": []
  }
 ],
 "metadata": {
  "kernelspec": {
   "display_name": "Python 3",
   "language": "python",
   "name": "python3"
  },
  "language_info": {
   "codemirror_mode": {
    "name": "ipython",
    "version": 3
   },
   "file_extension": ".py",
   "mimetype": "text/x-python",
   "name": "python",
   "nbconvert_exporter": "python",
   "pygments_lexer": "ipython3",
   "version": "3.7.1"
  }
 },
 "nbformat": 4,
 "nbformat_minor": 2
}
